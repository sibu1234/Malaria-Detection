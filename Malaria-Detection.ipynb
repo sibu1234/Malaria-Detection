{
 "cells": [
  {
   "cell_type": "markdown",
   "metadata": {},
   "source": [
    "## Creating CNN Using Scratch and Transfer Learning. "
   ]
  },
  {
   "cell_type": "code",
   "execution_count": 1,
   "metadata": {},
   "outputs": [],
   "source": [
    "from tensorflow.keras.layers import Input,Lambda,Dense,Flatten,Conv2D\n",
    "from tensorflow.keras.models import Model\n",
    "from tensorflow.keras.applications.vgg19 import VGG19\n",
    "from tensorflow.keras.applications.resnet50 import preprocess_input\n",
    "from tensorflow.keras.preprocessing import image\n",
    "from tensorflow.keras.preprocessing.image import ImageDataGenerator,load_img\n",
    "from tensorflow.keras.models import Sequential\n",
    "import numpy as np\n",
    "from glob import glob\n",
    "import matplotlib.pyplot as plt"
   ]
  },
  {
   "cell_type": "code",
   "execution_count": 2,
   "metadata": {},
   "outputs": [],
   "source": [
    "# Re-size all the images\n",
    "IMAGE_SIZE = [224,224]\n",
    "\n",
    "train_path = 'Dataset/Train'\n",
    "valid_path = 'Dataset/Test'"
   ]
  },
  {
   "cell_type": "code",
   "execution_count": 3,
   "metadata": {},
   "outputs": [],
   "source": [
    "#import vgg16 library and add preprocessing layer to the front of VGG\n",
    "#Here we will be using imagenet weights.\n",
    "vgg19 = VGG19(input_shape= IMAGE_SIZE + [3], weights= 'imagenet', include_top=False)"
   ]
  },
  {
   "cell_type": "code",
   "execution_count": 4,
   "metadata": {},
   "outputs": [
    {
     "name": "stdout",
     "output_type": "stream",
     "text": [
      "Model: \"vgg19\"\n",
      "_________________________________________________________________\n",
      "Layer (type)                 Output Shape              Param #   \n",
      "=================================================================\n",
      "input_1 (InputLayer)         [(None, 224, 224, 3)]     0         \n",
      "_________________________________________________________________\n",
      "block1_conv1 (Conv2D)        (None, 224, 224, 64)      1792      \n",
      "_________________________________________________________________\n",
      "block1_conv2 (Conv2D)        (None, 224, 224, 64)      36928     \n",
      "_________________________________________________________________\n",
      "block1_pool (MaxPooling2D)   (None, 112, 112, 64)      0         \n",
      "_________________________________________________________________\n",
      "block2_conv1 (Conv2D)        (None, 112, 112, 128)     73856     \n",
      "_________________________________________________________________\n",
      "block2_conv2 (Conv2D)        (None, 112, 112, 128)     147584    \n",
      "_________________________________________________________________\n",
      "block2_pool (MaxPooling2D)   (None, 56, 56, 128)       0         \n",
      "_________________________________________________________________\n",
      "block3_conv1 (Conv2D)        (None, 56, 56, 256)       295168    \n",
      "_________________________________________________________________\n",
      "block3_conv2 (Conv2D)        (None, 56, 56, 256)       590080    \n",
      "_________________________________________________________________\n",
      "block3_conv3 (Conv2D)        (None, 56, 56, 256)       590080    \n",
      "_________________________________________________________________\n",
      "block3_conv4 (Conv2D)        (None, 56, 56, 256)       590080    \n",
      "_________________________________________________________________\n",
      "block3_pool (MaxPooling2D)   (None, 28, 28, 256)       0         \n",
      "_________________________________________________________________\n",
      "block4_conv1 (Conv2D)        (None, 28, 28, 512)       1180160   \n",
      "_________________________________________________________________\n",
      "block4_conv2 (Conv2D)        (None, 28, 28, 512)       2359808   \n",
      "_________________________________________________________________\n",
      "block4_conv3 (Conv2D)        (None, 28, 28, 512)       2359808   \n",
      "_________________________________________________________________\n",
      "block4_conv4 (Conv2D)        (None, 28, 28, 512)       2359808   \n",
      "_________________________________________________________________\n",
      "block4_pool (MaxPooling2D)   (None, 14, 14, 512)       0         \n",
      "_________________________________________________________________\n",
      "block5_conv1 (Conv2D)        (None, 14, 14, 512)       2359808   \n",
      "_________________________________________________________________\n",
      "block5_conv2 (Conv2D)        (None, 14, 14, 512)       2359808   \n",
      "_________________________________________________________________\n",
      "block5_conv3 (Conv2D)        (None, 14, 14, 512)       2359808   \n",
      "_________________________________________________________________\n",
      "block5_conv4 (Conv2D)        (None, 14, 14, 512)       2359808   \n",
      "_________________________________________________________________\n",
      "block5_pool (MaxPooling2D)   (None, 7, 7, 512)         0         \n",
      "=================================================================\n",
      "Total params: 20,024,384\n",
      "Trainable params: 20,024,384\n",
      "Non-trainable params: 0\n",
      "_________________________________________________________________\n"
     ]
    }
   ],
   "source": [
    "vgg19.summary()"
   ]
  },
  {
   "cell_type": "code",
   "execution_count": 5,
   "metadata": {},
   "outputs": [],
   "source": [
    "#Dont train existing weights\n",
    "for layer in vgg19.layers:\n",
    "    layer.trainable= False"
   ]
  },
  {
   "cell_type": "code",
   "execution_count": 6,
   "metadata": {},
   "outputs": [],
   "source": [
    "#useful for getting number of output classes.\n",
    "folders = glob('Dataset/Train/*')"
   ]
  },
  {
   "cell_type": "code",
   "execution_count": 7,
   "metadata": {},
   "outputs": [
    {
     "data": {
      "text/plain": [
       "['Dataset/Train\\\\Parasite', 'Dataset/Train\\\\Uninfected']"
      ]
     },
     "execution_count": 7,
     "metadata": {},
     "output_type": "execute_result"
    }
   ],
   "source": [
    "folders"
   ]
  },
  {
   "cell_type": "code",
   "execution_count": 8,
   "metadata": {},
   "outputs": [],
   "source": [
    "x = Flatten()(vgg19.output)"
   ]
  },
  {
   "cell_type": "code",
   "execution_count": 9,
   "metadata": {},
   "outputs": [],
   "source": [
    "prediction = Dense(len(folders), activation= 'softmax')(x)\n",
    "\n",
    "#create a model object\n",
    "model = Model(inputs= vgg19.input, outputs = prediction)"
   ]
  },
  {
   "cell_type": "code",
   "execution_count": 10,
   "metadata": {},
   "outputs": [
    {
     "name": "stdout",
     "output_type": "stream",
     "text": [
      "Model: \"model\"\n",
      "_________________________________________________________________\n",
      "Layer (type)                 Output Shape              Param #   \n",
      "=================================================================\n",
      "input_1 (InputLayer)         [(None, 224, 224, 3)]     0         \n",
      "_________________________________________________________________\n",
      "block1_conv1 (Conv2D)        (None, 224, 224, 64)      1792      \n",
      "_________________________________________________________________\n",
      "block1_conv2 (Conv2D)        (None, 224, 224, 64)      36928     \n",
      "_________________________________________________________________\n",
      "block1_pool (MaxPooling2D)   (None, 112, 112, 64)      0         \n",
      "_________________________________________________________________\n",
      "block2_conv1 (Conv2D)        (None, 112, 112, 128)     73856     \n",
      "_________________________________________________________________\n",
      "block2_conv2 (Conv2D)        (None, 112, 112, 128)     147584    \n",
      "_________________________________________________________________\n",
      "block2_pool (MaxPooling2D)   (None, 56, 56, 128)       0         \n",
      "_________________________________________________________________\n",
      "block3_conv1 (Conv2D)        (None, 56, 56, 256)       295168    \n",
      "_________________________________________________________________\n",
      "block3_conv2 (Conv2D)        (None, 56, 56, 256)       590080    \n",
      "_________________________________________________________________\n",
      "block3_conv3 (Conv2D)        (None, 56, 56, 256)       590080    \n",
      "_________________________________________________________________\n",
      "block3_conv4 (Conv2D)        (None, 56, 56, 256)       590080    \n",
      "_________________________________________________________________\n",
      "block3_pool (MaxPooling2D)   (None, 28, 28, 256)       0         \n",
      "_________________________________________________________________\n",
      "block4_conv1 (Conv2D)        (None, 28, 28, 512)       1180160   \n",
      "_________________________________________________________________\n",
      "block4_conv2 (Conv2D)        (None, 28, 28, 512)       2359808   \n",
      "_________________________________________________________________\n",
      "block4_conv3 (Conv2D)        (None, 28, 28, 512)       2359808   \n",
      "_________________________________________________________________\n",
      "block4_conv4 (Conv2D)        (None, 28, 28, 512)       2359808   \n",
      "_________________________________________________________________\n",
      "block4_pool (MaxPooling2D)   (None, 14, 14, 512)       0         \n",
      "_________________________________________________________________\n",
      "block5_conv1 (Conv2D)        (None, 14, 14, 512)       2359808   \n",
      "_________________________________________________________________\n",
      "block5_conv2 (Conv2D)        (None, 14, 14, 512)       2359808   \n",
      "_________________________________________________________________\n",
      "block5_conv3 (Conv2D)        (None, 14, 14, 512)       2359808   \n",
      "_________________________________________________________________\n",
      "block5_conv4 (Conv2D)        (None, 14, 14, 512)       2359808   \n",
      "_________________________________________________________________\n",
      "block5_pool (MaxPooling2D)   (None, 7, 7, 512)         0         \n",
      "_________________________________________________________________\n",
      "flatten (Flatten)            (None, 25088)             0         \n",
      "_________________________________________________________________\n",
      "dense (Dense)                (None, 2)                 50178     \n",
      "=================================================================\n",
      "Total params: 20,074,562\n",
      "Trainable params: 50,178\n",
      "Non-trainable params: 20,024,384\n",
      "_________________________________________________________________\n"
     ]
    }
   ],
   "source": [
    "#view the structure of model\n",
    "model.summary()"
   ]
  },
  {
   "cell_type": "code",
   "execution_count": 11,
   "metadata": {},
   "outputs": [],
   "source": [
    "from tensorflow.keras.layers import MaxPooling2D"
   ]
  },
  {
   "cell_type": "code",
   "execution_count": 12,
   "metadata": {},
   "outputs": [
    {
     "name": "stdout",
     "output_type": "stream",
     "text": [
      "Model: \"sequential\"\n",
      "_________________________________________________________________\n",
      "Layer (type)                 Output Shape              Param #   \n",
      "=================================================================\n",
      "conv2d (Conv2D)              (None, 224, 224, 16)      208       \n",
      "_________________________________________________________________\n",
      "max_pooling2d (MaxPooling2D) (None, 112, 112, 16)      0         \n",
      "_________________________________________________________________\n",
      "conv2d_1 (Conv2D)            (None, 112, 112, 32)      2080      \n",
      "_________________________________________________________________\n",
      "max_pooling2d_1 (MaxPooling2 (None, 56, 56, 32)        0         \n",
      "_________________________________________________________________\n",
      "conv2d_2 (Conv2D)            (None, 56, 56, 64)        8256      \n",
      "_________________________________________________________________\n",
      "max_pooling2d_2 (MaxPooling2 (None, 28, 28, 64)        0         \n",
      "_________________________________________________________________\n",
      "flatten_1 (Flatten)          (None, 50176)             0         \n",
      "_________________________________________________________________\n",
      "dense_1 (Dense)              (None, 500)               25088500  \n",
      "_________________________________________________________________\n",
      "dense_2 (Dense)              (None, 2)                 1002      \n",
      "=================================================================\n",
      "Total params: 25,100,046\n",
      "Trainable params: 25,100,046\n",
      "Non-trainable params: 0\n",
      "_________________________________________________________________\n"
     ]
    }
   ],
   "source": [
    "# create model from scratch using CNN\n",
    "model= Sequential()\n",
    "model.add(Conv2D(filters=16,kernel_size=2,padding='same',activation='relu',input_shape=(224,224,3)))\n",
    "model.add(MaxPooling2D(pool_size=2))\n",
    "model.add(Conv2D(filters=32,kernel_size=2,padding='same',activation='relu'))\n",
    "model.add(MaxPooling2D(pool_size=2))\n",
    "model.add(Conv2D(filters=64,kernel_size=2,padding=\"same\",activation=\"relu\"))\n",
    "model.add(MaxPooling2D(pool_size=2))\n",
    "model.add(Flatten())\n",
    "model.add(Dense(500,activation=\"relu\"))\n",
    "model.add(Dense(2,activation=\"softmax\"))\n",
    "model.summary()"
   ]
  },
  {
   "cell_type": "code",
   "execution_count": 13,
   "metadata": {},
   "outputs": [],
   "source": [
    "#tell the model what cost and optimization to use\n",
    "model.compile(\n",
    "  loss= 'categorical_crossentropy',\n",
    "  optimizer= 'adam',\n",
    "  metrics=['accuracy'])"
   ]
  },
  {
   "cell_type": "code",
   "execution_count": 14,
   "metadata": {},
   "outputs": [],
   "source": [
    "#use the image data generator to import the images from datasets.\n",
    "from tensorflow.keras.preprocessing.image import ImageDataGenerator\n",
    "\n",
    "train_datagen = ImageDataGenerator(rescale=1./255,\n",
    "                                  shear_range=0.2,\n",
    "                                  zoom_range=0.2,\n",
    "                                  horizontal_flip= True)\n",
    "\n",
    "test_datagen = ImageDataGenerator(rescale=1./255)"
   ]
  },
  {
   "cell_type": "code",
   "execution_count": 15,
   "metadata": {},
   "outputs": [
    {
     "name": "stdout",
     "output_type": "stream",
     "text": [
      "Found 416 images belonging to 2 classes.\n"
     ]
    }
   ],
   "source": [
    "# Make sure you provide the same target size as initialied for the image size\n",
    "training_set = train_datagen.flow_from_directory('Dataset/Train',\n",
    "                                                target_size=(224,224),\n",
    "                                                batch_size=32,\n",
    "                                                class_mode='categorical')"
   ]
  },
  {
   "cell_type": "code",
   "execution_count": 16,
   "metadata": {},
   "outputs": [
    {
     "data": {
      "text/plain": [
       "<keras_preprocessing.image.directory_iterator.DirectoryIterator at 0x2210001f148>"
      ]
     },
     "execution_count": 16,
     "metadata": {},
     "output_type": "execute_result"
    }
   ],
   "source": [
    "training_set"
   ]
  },
  {
   "cell_type": "code",
   "execution_count": 17,
   "metadata": {},
   "outputs": [
    {
     "name": "stdout",
     "output_type": "stream",
     "text": [
      "Found 134 images belonging to 2 classes.\n"
     ]
    }
   ],
   "source": [
    "test_set = test_datagen.flow_from_directory('Dataset/Test',\n",
    "                                           target_size=(224,224),\n",
    "                                           batch_size=32,\n",
    "                                           class_mode='categorical')"
   ]
  },
  {
   "cell_type": "code",
   "execution_count": 18,
   "metadata": {},
   "outputs": [
    {
     "data": {
      "text/plain": [
       "<keras_preprocessing.image.directory_iterator.DirectoryIterator at 0x2210001ffc8>"
      ]
     },
     "execution_count": 18,
     "metadata": {},
     "output_type": "execute_result"
    }
   ],
   "source": [
    "test_set"
   ]
  },
  {
   "cell_type": "code",
   "execution_count": 19,
   "metadata": {},
   "outputs": [
    {
     "name": "stdout",
     "output_type": "stream",
     "text": [
      "WARNING:tensorflow:From <ipython-input-19-e5341e8b777c>:7: Model.fit_generator (from tensorflow.python.keras.engine.training) is deprecated and will be removed in a future version.\n",
      "Instructions for updating:\n",
      "Please use Model.fit, which supports generators.\n",
      "WARNING:tensorflow:sample_weight modes were coerced from\n",
      "  ...\n",
      "    to  \n",
      "  ['...']\n",
      "WARNING:tensorflow:sample_weight modes were coerced from\n",
      "  ...\n",
      "    to  \n",
      "  ['...']\n",
      "Train for 13 steps, validate for 5 steps\n",
      "Epoch 1/20\n",
      "13/13 [==============================] - 34s 3s/step - loss: 1.7171 - accuracy: 0.4760 - val_loss: 0.6563 - val_accuracy: 0.6791\n",
      "Epoch 2/20\n",
      "13/13 [==============================] - 26s 2s/step - loss: 0.6421 - accuracy: 0.5865 - val_loss: 0.7001 - val_accuracy: 0.4104\n",
      "Epoch 3/20\n",
      "13/13 [==============================] - 28s 2s/step - loss: 0.4976 - accuracy: 0.7716 - val_loss: 1.0626 - val_accuracy: 0.4179\n",
      "Epoch 4/20\n",
      "13/13 [==============================] - 29s 2s/step - loss: 0.4390 - accuracy: 0.7716 - val_loss: 1.1690 - val_accuracy: 0.3433\n",
      "Epoch 5/20\n",
      "13/13 [==============================] - 27s 2s/step - loss: 0.4279 - accuracy: 0.8101 - val_loss: 0.7176 - val_accuracy: 0.4851\n",
      "Epoch 6/20\n",
      "13/13 [==============================] - 28s 2s/step - loss: 0.3934 - accuracy: 0.8365 - val_loss: 0.6152 - val_accuracy: 0.5672\n",
      "Epoch 7/20\n",
      "13/13 [==============================] - 28s 2s/step - loss: 0.3483 - accuracy: 0.8341 - val_loss: 0.4984 - val_accuracy: 0.7015\n",
      "Epoch 8/20\n",
      "13/13 [==============================] - 27s 2s/step - loss: 0.2894 - accuracy: 0.8822 - val_loss: 0.5250 - val_accuracy: 0.6791\n",
      "Epoch 9/20\n",
      "13/13 [==============================] - 28s 2s/step - loss: 0.2453 - accuracy: 0.9038 - val_loss: 0.4732 - val_accuracy: 0.7313\n",
      "Epoch 10/20\n",
      "13/13 [==============================] - 28s 2s/step - loss: 0.2101 - accuracy: 0.9279 - val_loss: 0.4675 - val_accuracy: 0.7463\n",
      "Epoch 11/20\n",
      "13/13 [==============================] - 28s 2s/step - loss: 0.1674 - accuracy: 0.9495 - val_loss: 0.6476 - val_accuracy: 0.7537\n",
      "Epoch 12/20\n",
      "13/13 [==============================] - 27s 2s/step - loss: 0.2068 - accuracy: 0.9183 - val_loss: 0.3493 - val_accuracy: 0.8358\n",
      "Epoch 13/20\n",
      "13/13 [==============================] - 27s 2s/step - loss: 0.1873 - accuracy: 0.9567 - val_loss: 0.3670 - val_accuracy: 0.7761\n",
      "Epoch 14/20\n",
      "13/13 [==============================] - 28s 2s/step - loss: 0.1367 - accuracy: 0.9495 - val_loss: 0.2817 - val_accuracy: 0.8507\n",
      "Epoch 15/20\n",
      "13/13 [==============================] - 27s 2s/step - loss: 0.1035 - accuracy: 0.9712 - val_loss: 0.5935 - val_accuracy: 0.7537\n",
      "Epoch 16/20\n",
      "13/13 [==============================] - 27s 2s/step - loss: 0.1032 - accuracy: 0.9615 - val_loss: 0.2672 - val_accuracy: 0.8657\n",
      "Epoch 17/20\n",
      "13/13 [==============================] - 27s 2s/step - loss: 0.1342 - accuracy: 0.9615 - val_loss: 0.3173 - val_accuracy: 0.8358\n",
      "Epoch 18/20\n",
      "13/13 [==============================] - 27s 2s/step - loss: 0.1233 - accuracy: 0.9736 - val_loss: 0.2934 - val_accuracy: 0.8582\n",
      "Epoch 19/20\n",
      "13/13 [==============================] - 28s 2s/step - loss: 0.1033 - accuracy: 0.9615 - val_loss: 0.2166 - val_accuracy: 0.9179\n",
      "Epoch 20/20\n",
      "13/13 [==============================] - 27s 2s/step - loss: 0.1236 - accuracy: 0.9736 - val_loss: 0.6274 - val_accuracy: 0.7612\n"
     ]
    }
   ],
   "source": [
    "#fit the model\n",
    "r = model.fit_generator(\n",
    "   training_set,\n",
    "   validation_data=test_set,\n",
    "   epochs=20,\n",
    "   steps_per_epoch= len(training_set),\n",
    "   validation_steps= len(test_set))"
   ]
  },
  {
   "cell_type": "code",
   "execution_count": 20,
   "metadata": {},
   "outputs": [
    {
     "data": {
      "image/png": "[encoded data removed]",
      "text/plain": [
       "<Figure size 432x288 with 1 Axes>"
      ]
     },
     "metadata": {
      "needs_background": "light"
     },
     "output_type": "display_data"
    },
    {
     "data": {
      "image/png": "[encoded data removed]",
      "text/plain": [
       "<Figure size 432x288 with 1 Axes>"
      ]
     },
     "metadata": {
      "needs_background": "light"
     },
     "output_type": "display_data"
    },
    {
     "data": {
      "text/plain": [
       "<Figure size 432x288 with 0 Axes>"
      ]
     },
     "metadata": {},
     "output_type": "display_data"
    }
   ],
   "source": [
    "#plot the loss\n",
    "plt.plot(r.history['loss'], label='train loss')\n",
    "plt.plot(r.history['val_loss'], label='val loss')\n",
    "plt.legend()\n",
    "plt.show()\n",
    "plt.savefig('LossVal_loss')\n",
    "\n",
    "#plot the accuracy\n",
    "plt.plot(r.history['accuracy'], label='train acc')\n",
    "plt.plot(r.history['val_accuracy'], label='val acc')\n",
    "plt.legend()\n",
    "plt.show()\n",
    "plt.savefig('AccVal_acc')\n"
   ]
  },
  {
   "cell_type": "code",
   "execution_count": 21,
   "metadata": {},
   "outputs": [],
   "source": [
    "#save it as h5 file\n",
    "from tensorflow.keras.models import load_model\n",
    "model.save('model_vgg19.h5')"
   ]
  },
  {
   "cell_type": "code",
   "execution_count": 22,
   "metadata": {},
   "outputs": [],
   "source": [
    "y_pred = model.predict(test_set)"
   ]
  },
  {
   "cell_type": "code",
   "execution_count": 23,
   "metadata": {},
   "outputs": [
    {
     "data": {
      "text/plain": [
       "array([[2.08475608e-02, 9.79152381e-01],\n",
       "       [1.60878032e-01, 8.39121938e-01],\n",
       "       [2.20749110e-01, 7.79250920e-01],\n",
       "       [1.22073619e-02, 9.87792671e-01],\n",
       "       [2.31951717e-02, 9.76804793e-01],\n",
       "       [2.44036522e-02, 9.75596368e-01],\n",
       "       [1.58447605e-02, 9.84155297e-01],\n",
       "       [9.29789543e-01, 7.02104345e-02],\n",
       "       [9.99952674e-01, 4.73138498e-05],\n",
       "       [9.99980688e-01, 1.92633579e-05],\n",
       "       [2.17453577e-02, 9.78254676e-01],\n",
       "       [1.82395373e-02, 9.81760442e-01],\n",
       "       [9.99470055e-01, 5.29924058e-04],\n",
       "       [1.52887711e-02, 9.84711230e-01],\n",
       "       [9.99999881e-01, 1.16181845e-07],\n",
       "       [9.44471300e-01, 5.55287190e-02],\n",
       "       [9.91217017e-01, 8.78302660e-03],\n",
       "       [9.99559820e-01, 4.40112170e-04],\n",
       "       [9.99439657e-01, 5.60361950e-04],\n",
       "       [2.21725013e-02, 9.77827489e-01],\n",
       "       [4.41226572e-01, 5.58773458e-01],\n",
       "       [5.26973307e-01, 4.73026693e-01],\n",
       "       [1.87735073e-02, 9.81226444e-01],\n",
       "       [9.99959230e-01, 4.07174812e-05],\n",
       "       [1.00000000e+00, 1.71784753e-09],\n",
       "       [1.58907119e-02, 9.84109342e-01],\n",
       "       [1.85265169e-02, 9.81473505e-01],\n",
       "       [8.61171424e-01, 1.38828576e-01],\n",
       "       [9.99871373e-01, 1.28637374e-04],\n",
       "       [9.99224186e-01, 7.75768654e-04],\n",
       "       [1.74310859e-02, 9.82568860e-01],\n",
       "       [9.28616822e-01, 7.13832229e-02],\n",
       "       [4.84209508e-02, 9.51579034e-01],\n",
       "       [1.56317297e-02, 9.84368265e-01],\n",
       "       [6.25308156e-01, 3.74691814e-01],\n",
       "       [6.24981403e-01, 3.75018597e-01],\n",
       "       [7.95947671e-01, 2.04052344e-01],\n",
       "       [3.38727646e-02, 9.66127217e-01],\n",
       "       [9.48380493e-03, 9.90516126e-01],\n",
       "       [1.00873776e-01, 8.99126172e-01],\n",
       "       [1.50933350e-02, 9.84906733e-01],\n",
       "       [2.22703759e-02, 9.77729619e-01],\n",
       "       [9.99971390e-01, 2.86399045e-05],\n",
       "       [1.29869767e-02, 9.87013042e-01],\n",
       "       [1.61705464e-02, 9.83829439e-01],\n",
       "       [9.74458575e-01, 2.55414359e-02],\n",
       "       [8.70557010e-01, 1.29443020e-01],\n",
       "       [4.13600832e-01, 5.86399198e-01],\n",
       "       [3.86856943e-02, 9.61314261e-01],\n",
       "       [8.29719193e-03, 9.91702855e-01],\n",
       "       [8.21565911e-02, 9.17843401e-01],\n",
       "       [9.99313951e-01, 6.86031824e-04],\n",
       "       [2.32053529e-02, 9.76794660e-01],\n",
       "       [3.53227973e-01, 6.46772027e-01],\n",
       "       [9.99259412e-01, 7.40616408e-04],\n",
       "       [2.00910810e-02, 9.79908884e-01],\n",
       "       [3.45815681e-02, 9.65418458e-01],\n",
       "       [5.38120329e-01, 4.61879641e-01],\n",
       "       [5.34346933e-03, 9.94656563e-01],\n",
       "       [7.52617279e-03, 9.92473841e-01],\n",
       "       [9.50413048e-01, 4.95869815e-02],\n",
       "       [1.77956596e-02, 9.82204258e-01],\n",
       "       [9.99987245e-01, 1.27582880e-05],\n",
       "       [2.47969311e-02, 9.75203037e-01],\n",
       "       [3.89725149e-01, 6.10274851e-01],\n",
       "       [5.96334636e-01, 4.03665394e-01],\n",
       "       [5.17769575e-01, 4.82230365e-01],\n",
       "       [1.13927431e-01, 8.86072516e-01],\n",
       "       [9.99686003e-01, 3.14070057e-04],\n",
       "       [9.86244738e-01, 1.37552256e-02],\n",
       "       [2.32001990e-02, 9.76799786e-01],\n",
       "       [1.83996782e-02, 9.81600285e-01],\n",
       "       [1.08272908e-02, 9.89172697e-01],\n",
       "       [7.77319551e-01, 2.22680420e-01],\n",
       "       [1.88100599e-02, 9.81189966e-01],\n",
       "       [5.16252443e-02, 9.48374748e-01],\n",
       "       [9.99980211e-01, 1.98155958e-05],\n",
       "       [9.68764246e-01, 3.12357116e-02],\n",
       "       [1.91276759e-01, 8.08723271e-01],\n",
       "       [9.52081755e-03, 9.90479171e-01],\n",
       "       [1.43925520e-02, 9.85607386e-01],\n",
       "       [9.85617697e-01, 1.43822674e-02],\n",
       "       [2.92163584e-02, 9.70783591e-01],\n",
       "       [5.51266372e-01, 4.48733628e-01],\n",
       "       [9.41710591e-01, 5.82894087e-02],\n",
       "       [7.57717192e-01, 2.42282793e-01],\n",
       "       [9.99908209e-01, 9.17737852e-05],\n",
       "       [1.43312644e-02, 9.85668778e-01],\n",
       "       [1.05127506e-02, 9.89487290e-01],\n",
       "       [9.94789004e-01, 5.21100173e-03],\n",
       "       [2.38606203e-02, 9.76139367e-01],\n",
       "       [1.15701944e-01, 8.84298086e-01],\n",
       "       [9.99743879e-01, 2.56152911e-04],\n",
       "       [8.88097286e-01, 1.11902736e-01],\n",
       "       [9.99001801e-01, 9.98237403e-04],\n",
       "       [9.82942224e-01, 1.70578025e-02],\n",
       "       [1.92448720e-02, 9.80755091e-01],\n",
       "       [1.87631994e-02, 9.81236815e-01],\n",
       "       [1.34663051e-02, 9.86533642e-01],\n",
       "       [6.21205568e-01, 3.78794402e-01],\n",
       "       [9.58009839e-01, 4.19901982e-02],\n",
       "       [6.29843101e-02, 9.37015712e-01],\n",
       "       [9.86626208e-01, 1.33737139e-02],\n",
       "       [2.49243323e-02, 9.75075662e-01],\n",
       "       [1.23230703e-02, 9.87676978e-01],\n",
       "       [9.98192966e-01, 1.80700864e-03],\n",
       "       [7.55824596e-02, 9.24417496e-01],\n",
       "       [1.47096999e-02, 9.85290289e-01],\n",
       "       [1.97773185e-02, 9.80222642e-01],\n",
       "       [1.07974960e-02, 9.89202440e-01],\n",
       "       [1.73334610e-02, 9.82666612e-01],\n",
       "       [9.95072424e-01, 4.92751552e-03],\n",
       "       [1.34247048e-02, 9.86575305e-01],\n",
       "       [8.08579981e-01, 1.91420048e-01],\n",
       "       [1.68722998e-02, 9.83127713e-01],\n",
       "       [1.08538933e-01, 8.91461134e-01],\n",
       "       [9.03087378e-01, 9.69126597e-02],\n",
       "       [3.84839475e-01, 6.15160584e-01],\n",
       "       [9.09924414e-03, 9.90900755e-01],\n",
       "       [9.99963522e-01, 3.64646221e-05],\n",
       "       [1.10442303e-02, 9.88955796e-01],\n",
       "       [8.62416327e-01, 1.37583658e-01],\n",
       "       [7.61076212e-02, 9.23892319e-01],\n",
       "       [1.27331361e-01, 8.72668564e-01],\n",
       "       [9.91430938e-01, 8.56912881e-03],\n",
       "       [3.30709331e-02, 9.66929138e-01],\n",
       "       [9.99997258e-01, 2.75399839e-06],\n",
       "       [9.99952793e-01, 4.72594729e-05],\n",
       "       [9.99788940e-01, 2.11128310e-04],\n",
       "       [9.69293594e-01, 3.07064578e-02],\n",
       "       [1.52056767e-02, 9.84794319e-01],\n",
       "       [1.90706570e-02, 9.80929375e-01],\n",
       "       [7.91532516e-01, 2.08467439e-01],\n",
       "       [3.18073370e-02, 9.68192637e-01]], dtype=float32)"
      ]
     },
     "execution_count": 23,
     "metadata": {},
     "output_type": "execute_result"
    }
   ],
   "source": [
    "y_pred"
   ]
  },
  {
   "cell_type": "code",
   "execution_count": 24,
   "metadata": {},
   "outputs": [],
   "source": [
    "import numpy as np\n",
    "y_pred = np.argmax(y_pred, axis=1)"
   ]
  },
  {
   "cell_type": "code",
   "execution_count": 25,
   "metadata": {},
   "outputs": [
    {
     "data": {
      "text/plain": [
       "array([1, 1, 1, 1, 1, 1, 1, 0, 0, 0, 1, 1, 0, 1, 0, 0, 0, 0, 0, 1, 1, 0,\n",
       "       1, 0, 0, 1, 1, 0, 0, 0, 1, 0, 1, 1, 0, 0, 0, 1, 1, 1, 1, 1, 0, 1,\n",
       "       1, 0, 0, 1, 1, 1, 1, 0, 1, 1, 0, 1, 1, 0, 1, 1, 0, 1, 0, 1, 1, 0,\n",
       "       0, 1, 0, 0, 1, 1, 1, 0, 1, 1, 0, 0, 1, 1, 1, 0, 1, 0, 0, 0, 0, 1,\n",
       "       1, 0, 1, 1, 0, 0, 0, 0, 1, 1, 1, 0, 0, 1, 0, 1, 1, 0, 1, 1, 1, 1,\n",
       "       1, 0, 1, 0, 1, 1, 0, 1, 1, 0, 1, 0, 1, 1, 0, 1, 0, 0, 0, 0, 1, 1,\n",
       "       0, 1], dtype=int64)"
      ]
     },
     "execution_count": 25,
     "metadata": {},
     "output_type": "execute_result"
    }
   ],
   "source": [
    "y_pred"
   ]
  },
  {
   "cell_type": "code",
   "execution_count": 26,
   "metadata": {},
   "outputs": [],
   "source": [
    "from tensorflow.keras.models import load_model\n",
    "from tensorflow.keras.preprocessing import image"
   ]
  },
  {
   "cell_type": "code",
   "execution_count": 27,
   "metadata": {},
   "outputs": [],
   "source": [
    "model= load_model('model_vgg19.h5')"
   ]
  },
  {
   "cell_type": "code",
   "execution_count": 28,
   "metadata": {},
   "outputs": [],
   "source": [
    "img = image.load_img('Dataset/Test/Uninfected/3.png', target_size=(224,224))\n"
   ]
  },
  {
   "cell_type": "code",
   "execution_count": 29,
   "metadata": {},
   "outputs": [
    {
     "data": {
      "text/plain": [
       "array([[[0., 0., 0.],\n",
       "        [0., 0., 0.],\n",
       "        [0., 0., 0.],\n",
       "        ...,\n",
       "        [0., 0., 0.],\n",
       "        [0., 0., 0.],\n",
       "        [0., 0., 0.]],\n",
       "\n",
       "       [[0., 0., 0.],\n",
       "        [0., 0., 0.],\n",
       "        [0., 0., 0.],\n",
       "        ...,\n",
       "        [0., 0., 0.],\n",
       "        [0., 0., 0.],\n",
       "        [0., 0., 0.]],\n",
       "\n",
       "       [[0., 0., 0.],\n",
       "        [0., 0., 0.],\n",
       "        [0., 0., 0.],\n",
       "        ...,\n",
       "        [0., 0., 0.],\n",
       "        [0., 0., 0.],\n",
       "        [0., 0., 0.]],\n",
       "\n",
       "       ...,\n",
       "\n",
       "       [[0., 0., 0.],\n",
       "        [0., 0., 0.],\n",
       "        [0., 0., 0.],\n",
       "        ...,\n",
       "        [0., 0., 0.],\n",
       "        [0., 0., 0.],\n",
       "        [0., 0., 0.]],\n",
       "\n",
       "       [[0., 0., 0.],\n",
       "        [0., 0., 0.],\n",
       "        [0., 0., 0.],\n",
       "        ...,\n",
       "        [0., 0., 0.],\n",
       "        [0., 0., 0.],\n",
       "        [0., 0., 0.]],\n",
       "\n",
       "       [[0., 0., 0.],\n",
       "        [0., 0., 0.],\n",
       "        [0., 0., 0.],\n",
       "        ...,\n",
       "        [0., 0., 0.],\n",
       "        [0., 0., 0.],\n",
       "        [0., 0., 0.]]], dtype=float32)"
      ]
     },
     "execution_count": 29,
     "metadata": {},
     "output_type": "execute_result"
    }
   ],
   "source": [
    "x = image.img_to_array(img)\n",
    "x"
   ]
  },
  {
   "cell_type": "code",
   "execution_count": 30,
   "metadata": {},
   "outputs": [
    {
     "data": {
      "text/plain": [
       "(224, 224, 3)"
      ]
     },
     "execution_count": 30,
     "metadata": {},
     "output_type": "execute_result"
    }
   ],
   "source": [
    "x.shape"
   ]
  },
  {
   "cell_type": "code",
   "execution_count": 31,
   "metadata": {},
   "outputs": [],
   "source": [
    "x=x/255"
   ]
  },
  {
   "cell_type": "code",
   "execution_count": 32,
   "metadata": {},
   "outputs": [
    {
     "data": {
      "text/plain": [
       "(1, 224, 224, 3)"
      ]
     },
     "execution_count": 32,
     "metadata": {},
     "output_type": "execute_result"
    }
   ],
   "source": [
    "x= np.expand_dims(x, axis=0)\n",
    "img_data = preprocess_input(x)\n",
    "img_data.shape"
   ]
  },
  {
   "cell_type": "code",
   "execution_count": 33,
   "metadata": {},
   "outputs": [
    {
     "data": {
      "text/plain": [
       "array([[0., 1.]], dtype=float32)"
      ]
     },
     "execution_count": 33,
     "metadata": {},
     "output_type": "execute_result"
    }
   ],
   "source": [
    "model.predict(img_data)"
   ]
  },
  {
   "cell_type": "code",
   "execution_count": 34,
   "metadata": {},
   "outputs": [],
   "source": [
    "a = np.argmax(model.predict(img_data), axis=1)\n"
   ]
  },
  {
   "cell_type": "code",
   "execution_count": 35,
   "metadata": {},
   "outputs": [
    {
     "name": "stdout",
     "output_type": "stream",
     "text": [
      "Uninfected\n"
     ]
    }
   ],
   "source": [
    "if (a==1):\n",
    "    print('Uninfected')\n",
    "else:\n",
    "    print('Infected')"
   ]
  },
  {
   "cell_type": "code",
   "execution_count": null,
   "metadata": {},
   "outputs": [],
   "source": []
  }
 ],
 "metadata": {
  "kernelspec": {
   "display_name": "Python 3",
   "language": "python",
   "name": "python3"
  },
  "language_info": {
   "codemirror_mode": {
    "name": "ipython",
    "version": 3
   },
   "file_extension": ".py",
   "mimetype": "text/x-python",
   "name": "python",
   "nbconvert_exporter": "python",
   "pygments_lexer": "ipython3",
   "version": "3.7.4"
  }
 },
 "nbformat": 4,
 "nbformat_minor": 4
}
